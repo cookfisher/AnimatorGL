{
  "nbformat": 4,
  "nbformat_minor": 0,
  "metadata": {
    "colab": {
      "name": "p_1.ipynb",
      "provenance": [],
      "collapsed_sections": [],
      "include_colab_link": true
    },
    "kernelspec": {
      "display_name": "Python 3",
      "language": "python",
      "name": "python3"
    },
    "language_info": {
      "codemirror_mode": {
        "name": "ipython",
        "version": 3
      },
      "file_extension": ".py",
      "mimetype": "text/x-python",
      "name": "python",
      "nbconvert_exporter": "python",
      "pygments_lexer": "ipython3",
      "version": "3.7.3"
    },
    "widgets": {
      "application/vnd.jupyter.widget-state+json": {
        "4e5a9283acc94afc8578391ead8107b5": {
          "model_module": "@jupyter-widgets/controls",
          "model_name": "HBoxModel",
          "state": {
            "_view_name": "HBoxView",
            "_dom_classes": [],
            "_model_name": "HBoxModel",
            "_view_module": "@jupyter-widgets/controls",
            "_model_module_version": "1.5.0",
            "_view_count": null,
            "_view_module_version": "1.5.0",
            "box_style": "",
            "layout": "IPY_MODEL_c80e47047dc34b72a8f57ad866d0df31",
            "_model_module": "@jupyter-widgets/controls",
            "children": [
              "IPY_MODEL_b8c2f51e92e0415c88682e80411224bc",
              "IPY_MODEL_be45b7244ed34d53b905bf751635a6e9"
            ]
          }
        },
        "c80e47047dc34b72a8f57ad866d0df31": {
          "model_module": "@jupyter-widgets/base",
          "model_name": "LayoutModel",
          "state": {
            "_view_name": "LayoutView",
            "grid_template_rows": null,
            "right": null,
            "justify_content": null,
            "_view_module": "@jupyter-widgets/base",
            "overflow": null,
            "_model_module_version": "1.2.0",
            "_view_count": null,
            "flex_flow": null,
            "width": null,
            "min_width": null,
            "border": null,
            "align_items": null,
            "bottom": null,
            "_model_module": "@jupyter-widgets/base",
            "top": null,
            "grid_column": null,
            "overflow_y": null,
            "overflow_x": null,
            "grid_auto_flow": null,
            "grid_area": null,
            "grid_template_columns": null,
            "flex": null,
            "_model_name": "LayoutModel",
            "justify_items": null,
            "grid_row": null,
            "max_height": null,
            "align_content": null,
            "visibility": null,
            "align_self": null,
            "height": null,
            "min_height": null,
            "padding": null,
            "grid_auto_rows": null,
            "grid_gap": null,
            "max_width": null,
            "order": null,
            "_view_module_version": "1.2.0",
            "grid_template_areas": null,
            "object_position": null,
            "object_fit": null,
            "grid_auto_columns": null,
            "margin": null,
            "display": null,
            "left": null
          }
        },
        "b8c2f51e92e0415c88682e80411224bc": {
          "model_module": "@jupyter-widgets/controls",
          "model_name": "FloatProgressModel",
          "state": {
            "_view_name": "ProgressView",
            "style": "IPY_MODEL_a94b857df46d48c09c528832ec14877c",
            "_dom_classes": [],
            "description": "",
            "_model_name": "FloatProgressModel",
            "bar_style": "success",
            "max": 18165135,
            "_view_module": "@jupyter-widgets/controls",
            "_model_module_version": "1.5.0",
            "value": 18165135,
            "_view_count": null,
            "_view_module_version": "1.5.0",
            "orientation": "horizontal",
            "min": 0,
            "description_tooltip": null,
            "_model_module": "@jupyter-widgets/controls",
            "layout": "IPY_MODEL_5f78dc3ddc8f45f6be02d4c34f5d146c"
          }
        },
        "be45b7244ed34d53b905bf751635a6e9": {
          "model_module": "@jupyter-widgets/controls",
          "model_name": "HTMLModel",
          "state": {
            "_view_name": "HTMLView",
            "style": "IPY_MODEL_aa37c7f1b09741bf9d895cd6eb0e6562",
            "_dom_classes": [],
            "description": "",
            "_model_name": "HTMLModel",
            "placeholder": "​",
            "_view_module": "@jupyter-widgets/controls",
            "_model_module_version": "1.5.0",
            "value": " 18165760/? [00:46&lt;00:00, 388651.70it/s]",
            "_view_count": null,
            "_view_module_version": "1.5.0",
            "description_tooltip": null,
            "_model_module": "@jupyter-widgets/controls",
            "layout": "IPY_MODEL_21be37f81fcb4a08b5534238652f4f87"
          }
        },
        "a94b857df46d48c09c528832ec14877c": {
          "model_module": "@jupyter-widgets/controls",
          "model_name": "ProgressStyleModel",
          "state": {
            "_view_name": "StyleView",
            "_model_name": "ProgressStyleModel",
            "description_width": "initial",
            "_view_module": "@jupyter-widgets/base",
            "_model_module_version": "1.5.0",
            "_view_count": null,
            "_view_module_version": "1.2.0",
            "bar_color": null,
            "_model_module": "@jupyter-widgets/controls"
          }
        },
        "5f78dc3ddc8f45f6be02d4c34f5d146c": {
          "model_module": "@jupyter-widgets/base",
          "model_name": "LayoutModel",
          "state": {
            "_view_name": "LayoutView",
            "grid_template_rows": null,
            "right": null,
            "justify_content": null,
            "_view_module": "@jupyter-widgets/base",
            "overflow": null,
            "_model_module_version": "1.2.0",
            "_view_count": null,
            "flex_flow": null,
            "width": null,
            "min_width": null,
            "border": null,
            "align_items": null,
            "bottom": null,
            "_model_module": "@jupyter-widgets/base",
            "top": null,
            "grid_column": null,
            "overflow_y": null,
            "overflow_x": null,
            "grid_auto_flow": null,
            "grid_area": null,
            "grid_template_columns": null,
            "flex": null,
            "_model_name": "LayoutModel",
            "justify_items": null,
            "grid_row": null,
            "max_height": null,
            "align_content": null,
            "visibility": null,
            "align_self": null,
            "height": null,
            "min_height": null,
            "padding": null,
            "grid_auto_rows": null,
            "grid_gap": null,
            "max_width": null,
            "order": null,
            "_view_module_version": "1.2.0",
            "grid_template_areas": null,
            "object_position": null,
            "object_fit": null,
            "grid_auto_columns": null,
            "margin": null,
            "display": null,
            "left": null
          }
        },
        "aa37c7f1b09741bf9d895cd6eb0e6562": {
          "model_module": "@jupyter-widgets/controls",
          "model_name": "DescriptionStyleModel",
          "state": {
            "_view_name": "StyleView",
            "_model_name": "DescriptionStyleModel",
            "description_width": "",
            "_view_module": "@jupyter-widgets/base",
            "_model_module_version": "1.5.0",
            "_view_count": null,
            "_view_module_version": "1.2.0",
            "_model_module": "@jupyter-widgets/controls"
          }
        },
        "21be37f81fcb4a08b5534238652f4f87": {
          "model_module": "@jupyter-widgets/base",
          "model_name": "LayoutModel",
          "state": {
            "_view_name": "LayoutView",
            "grid_template_rows": null,
            "right": null,
            "justify_content": null,
            "_view_module": "@jupyter-widgets/base",
            "overflow": null,
            "_model_module_version": "1.2.0",
            "_view_count": null,
            "flex_flow": null,
            "width": null,
            "min_width": null,
            "border": null,
            "align_items": null,
            "bottom": null,
            "_model_module": "@jupyter-widgets/base",
            "top": null,
            "grid_column": null,
            "overflow_y": null,
            "overflow_x": null,
            "grid_auto_flow": null,
            "grid_area": null,
            "grid_template_columns": null,
            "flex": null,
            "_model_name": "LayoutModel",
            "justify_items": null,
            "grid_row": null,
            "max_height": null,
            "align_content": null,
            "visibility": null,
            "align_self": null,
            "height": null,
            "min_height": null,
            "padding": null,
            "grid_auto_rows": null,
            "grid_gap": null,
            "max_width": null,
            "order": null,
            "_view_module_version": "1.2.0",
            "grid_template_areas": null,
            "object_position": null,
            "object_fit": null,
            "grid_auto_columns": null,
            "margin": null,
            "display": null,
            "left": null
          }
        },
        "59191c8973684e54953856ccd5546cfe": {
          "model_module": "@jupyter-widgets/controls",
          "model_name": "HBoxModel",
          "state": {
            "_view_name": "HBoxView",
            "_dom_classes": [],
            "_model_name": "HBoxModel",
            "_view_module": "@jupyter-widgets/controls",
            "_model_module_version": "1.5.0",
            "_view_count": null,
            "_view_module_version": "1.5.0",
            "box_style": "",
            "layout": "IPY_MODEL_dbce6d1467634d8e9ab5b89dcad5cbed",
            "_model_module": "@jupyter-widgets/controls",
            "children": [
              "IPY_MODEL_3b7360153a6940a5a6bd431011d5b9fb",
              "IPY_MODEL_b397fba0166944fab4c67e75675287df"
            ]
          }
        },
        "dbce6d1467634d8e9ab5b89dcad5cbed": {
          "model_module": "@jupyter-widgets/base",
          "model_name": "LayoutModel",
          "state": {
            "_view_name": "LayoutView",
            "grid_template_rows": null,
            "right": null,
            "justify_content": null,
            "_view_module": "@jupyter-widgets/base",
            "overflow": null,
            "_model_module_version": "1.2.0",
            "_view_count": null,
            "flex_flow": null,
            "width": null,
            "min_width": null,
            "border": null,
            "align_items": null,
            "bottom": null,
            "_model_module": "@jupyter-widgets/base",
            "top": null,
            "grid_column": null,
            "overflow_y": null,
            "overflow_x": null,
            "grid_auto_flow": null,
            "grid_area": null,
            "grid_template_columns": null,
            "flex": null,
            "_model_name": "LayoutModel",
            "justify_items": null,
            "grid_row": null,
            "max_height": null,
            "align_content": null,
            "visibility": null,
            "align_self": null,
            "height": null,
            "min_height": null,
            "padding": null,
            "grid_auto_rows": null,
            "grid_gap": null,
            "max_width": null,
            "order": null,
            "_view_module_version": "1.2.0",
            "grid_template_areas": null,
            "object_position": null,
            "object_fit": null,
            "grid_auto_columns": null,
            "margin": null,
            "display": null,
            "left": null
          }
        },
        "3b7360153a6940a5a6bd431011d5b9fb": {
          "model_module": "@jupyter-widgets/controls",
          "model_name": "FloatProgressModel",
          "state": {
            "_view_name": "ProgressView",
            "style": "IPY_MODEL_d45d32f63be645819b64bb3cbbb82690",
            "_dom_classes": [],
            "description": "",
            "_model_name": "FloatProgressModel",
            "bar_style": "success",
            "max": 29497,
            "_view_module": "@jupyter-widgets/controls",
            "_model_module_version": "1.5.0",
            "value": 29497,
            "_view_count": null,
            "_view_module_version": "1.5.0",
            "orientation": "horizontal",
            "min": 0,
            "description_tooltip": null,
            "_model_module": "@jupyter-widgets/controls",
            "layout": "IPY_MODEL_69fff9d838214fb0b6c8949f47a79809"
          }
        },
        "b397fba0166944fab4c67e75675287df": {
          "model_module": "@jupyter-widgets/controls",
          "model_name": "HTMLModel",
          "state": {
            "_view_name": "HTMLView",
            "style": "IPY_MODEL_171b98b3f81647dd80d88fa53a7f931c",
            "_dom_classes": [],
            "description": "",
            "_model_name": "HTMLModel",
            "placeholder": "​",
            "_view_module": "@jupyter-widgets/controls",
            "_model_module_version": "1.5.0",
            "value": " 29696/? [00:05&lt;00:00, 5015.88it/s]",
            "_view_count": null,
            "_view_module_version": "1.5.0",
            "description_tooltip": null,
            "_model_module": "@jupyter-widgets/controls",
            "layout": "IPY_MODEL_45806ded0ce44a38a5249d059f743b07"
          }
        },
        "d45d32f63be645819b64bb3cbbb82690": {
          "model_module": "@jupyter-widgets/controls",
          "model_name": "ProgressStyleModel",
          "state": {
            "_view_name": "StyleView",
            "_model_name": "ProgressStyleModel",
            "description_width": "initial",
            "_view_module": "@jupyter-widgets/base",
            "_model_module_version": "1.5.0",
            "_view_count": null,
            "_view_module_version": "1.2.0",
            "bar_color": null,
            "_model_module": "@jupyter-widgets/controls"
          }
        },
        "69fff9d838214fb0b6c8949f47a79809": {
          "model_module": "@jupyter-widgets/base",
          "model_name": "LayoutModel",
          "state": {
            "_view_name": "LayoutView",
            "grid_template_rows": null,
            "right": null,
            "justify_content": null,
            "_view_module": "@jupyter-widgets/base",
            "overflow": null,
            "_model_module_version": "1.2.0",
            "_view_count": null,
            "flex_flow": null,
            "width": null,
            "min_width": null,
            "border": null,
            "align_items": null,
            "bottom": null,
            "_model_module": "@jupyter-widgets/base",
            "top": null,
            "grid_column": null,
            "overflow_y": null,
            "overflow_x": null,
            "grid_auto_flow": null,
            "grid_area": null,
            "grid_template_columns": null,
            "flex": null,
            "_model_name": "LayoutModel",
            "justify_items": null,
            "grid_row": null,
            "max_height": null,
            "align_content": null,
            "visibility": null,
            "align_self": null,
            "height": null,
            "min_height": null,
            "padding": null,
            "grid_auto_rows": null,
            "grid_gap": null,
            "max_width": null,
            "order": null,
            "_view_module_version": "1.2.0",
            "grid_template_areas": null,
            "object_position": null,
            "object_fit": null,
            "grid_auto_columns": null,
            "margin": null,
            "display": null,
            "left": null
          }
        },
        "171b98b3f81647dd80d88fa53a7f931c": {
          "model_module": "@jupyter-widgets/controls",
          "model_name": "DescriptionStyleModel",
          "state": {
            "_view_name": "StyleView",
            "_model_name": "DescriptionStyleModel",
            "description_width": "",
            "_view_module": "@jupyter-widgets/base",
            "_model_module_version": "1.5.0",
            "_view_count": null,
            "_view_module_version": "1.2.0",
            "_model_module": "@jupyter-widgets/controls"
          }
        },
        "45806ded0ce44a38a5249d059f743b07": {
          "model_module": "@jupyter-widgets/base",
          "model_name": "LayoutModel",
          "state": {
            "_view_name": "LayoutView",
            "grid_template_rows": null,
            "right": null,
            "justify_content": null,
            "_view_module": "@jupyter-widgets/base",
            "overflow": null,
            "_model_module_version": "1.2.0",
            "_view_count": null,
            "flex_flow": null,
            "width": null,
            "min_width": null,
            "border": null,
            "align_items": null,
            "bottom": null,
            "_model_module": "@jupyter-widgets/base",
            "top": null,
            "grid_column": null,
            "overflow_y": null,
            "overflow_x": null,
            "grid_auto_flow": null,
            "grid_area": null,
            "grid_template_columns": null,
            "flex": null,
            "_model_name": "LayoutModel",
            "justify_items": null,
            "grid_row": null,
            "max_height": null,
            "align_content": null,
            "visibility": null,
            "align_self": null,
            "height": null,
            "min_height": null,
            "padding": null,
            "grid_auto_rows": null,
            "grid_gap": null,
            "max_width": null,
            "order": null,
            "_view_module_version": "1.2.0",
            "grid_template_areas": null,
            "object_position": null,
            "object_fit": null,
            "grid_auto_columns": null,
            "margin": null,
            "display": null,
            "left": null
          }
        },
        "238252a91efe4aaeb01a5ce45558fe8f": {
          "model_module": "@jupyter-widgets/controls",
          "model_name": "HBoxModel",
          "state": {
            "_view_name": "HBoxView",
            "_dom_classes": [],
            "_model_name": "HBoxModel",
            "_view_module": "@jupyter-widgets/controls",
            "_model_module_version": "1.5.0",
            "_view_count": null,
            "_view_module_version": "1.5.0",
            "box_style": "",
            "layout": "IPY_MODEL_7f10cb518b2c4440ab168fcf181a03d8",
            "_model_module": "@jupyter-widgets/controls",
            "children": [
              "IPY_MODEL_fa48bf941fae4a338bbdd2205beb4651",
              "IPY_MODEL_66387bdbdace410fa1887ea0e4662a17"
            ]
          }
        },
        "7f10cb518b2c4440ab168fcf181a03d8": {
          "model_module": "@jupyter-widgets/base",
          "model_name": "LayoutModel",
          "state": {
            "_view_name": "LayoutView",
            "grid_template_rows": null,
            "right": null,
            "justify_content": null,
            "_view_module": "@jupyter-widgets/base",
            "overflow": null,
            "_model_module_version": "1.2.0",
            "_view_count": null,
            "flex_flow": null,
            "width": null,
            "min_width": null,
            "border": null,
            "align_items": null,
            "bottom": null,
            "_model_module": "@jupyter-widgets/base",
            "top": null,
            "grid_column": null,
            "overflow_y": null,
            "overflow_x": null,
            "grid_auto_flow": null,
            "grid_area": null,
            "grid_template_columns": null,
            "flex": null,
            "_model_name": "LayoutModel",
            "justify_items": null,
            "grid_row": null,
            "max_height": null,
            "align_content": null,
            "visibility": null,
            "align_self": null,
            "height": null,
            "min_height": null,
            "padding": null,
            "grid_auto_rows": null,
            "grid_gap": null,
            "max_width": null,
            "order": null,
            "_view_module_version": "1.2.0",
            "grid_template_areas": null,
            "object_position": null,
            "object_fit": null,
            "grid_auto_columns": null,
            "margin": null,
            "display": null,
            "left": null
          }
        },
        "fa48bf941fae4a338bbdd2205beb4651": {
          "model_module": "@jupyter-widgets/controls",
          "model_name": "FloatProgressModel",
          "state": {
            "_view_name": "ProgressView",
            "style": "IPY_MODEL_ca8a06be31c74223a963d0b0712f4059",
            "_dom_classes": [],
            "description": "",
            "_model_name": "FloatProgressModel",
            "bar_style": "success",
            "max": 3041136,
            "_view_module": "@jupyter-widgets/controls",
            "_model_module_version": "1.5.0",
            "value": 3041136,
            "_view_count": null,
            "_view_module_version": "1.5.0",
            "orientation": "horizontal",
            "min": 0,
            "description_tooltip": null,
            "_model_module": "@jupyter-widgets/controls",
            "layout": "IPY_MODEL_730f969460c6464d8e9294ac5397bddf"
          }
        },
        "66387bdbdace410fa1887ea0e4662a17": {
          "model_module": "@jupyter-widgets/controls",
          "model_name": "HTMLModel",
          "state": {
            "_view_name": "HTMLView",
            "style": "IPY_MODEL_c573bdee86c640dc8deebb47875344eb",
            "_dom_classes": [],
            "description": "",
            "_model_name": "HTMLModel",
            "placeholder": "​",
            "_view_module": "@jupyter-widgets/controls",
            "_model_module_version": "1.5.0",
            "value": " 3041280/? [00:03&lt;00:00, 889603.49it/s]",
            "_view_count": null,
            "_view_module_version": "1.5.0",
            "description_tooltip": null,
            "_model_module": "@jupyter-widgets/controls",
            "layout": "IPY_MODEL_b84f1766b0c64e0483a79a951d8822f4"
          }
        },
        "ca8a06be31c74223a963d0b0712f4059": {
          "model_module": "@jupyter-widgets/controls",
          "model_name": "ProgressStyleModel",
          "state": {
            "_view_name": "StyleView",
            "_model_name": "ProgressStyleModel",
            "description_width": "initial",
            "_view_module": "@jupyter-widgets/base",
            "_model_module_version": "1.5.0",
            "_view_count": null,
            "_view_module_version": "1.2.0",
            "bar_color": null,
            "_model_module": "@jupyter-widgets/controls"
          }
        },
        "730f969460c6464d8e9294ac5397bddf": {
          "model_module": "@jupyter-widgets/base",
          "model_name": "LayoutModel",
          "state": {
            "_view_name": "LayoutView",
            "grid_template_rows": null,
            "right": null,
            "justify_content": null,
            "_view_module": "@jupyter-widgets/base",
            "overflow": null,
            "_model_module_version": "1.2.0",
            "_view_count": null,
            "flex_flow": null,
            "width": null,
            "min_width": null,
            "border": null,
            "align_items": null,
            "bottom": null,
            "_model_module": "@jupyter-widgets/base",
            "top": null,
            "grid_column": null,
            "overflow_y": null,
            "overflow_x": null,
            "grid_auto_flow": null,
            "grid_area": null,
            "grid_template_columns": null,
            "flex": null,
            "_model_name": "LayoutModel",
            "justify_items": null,
            "grid_row": null,
            "max_height": null,
            "align_content": null,
            "visibility": null,
            "align_self": null,
            "height": null,
            "min_height": null,
            "padding": null,
            "grid_auto_rows": null,
            "grid_gap": null,
            "max_width": null,
            "order": null,
            "_view_module_version": "1.2.0",
            "grid_template_areas": null,
            "object_position": null,
            "object_fit": null,
            "grid_auto_columns": null,
            "margin": null,
            "display": null,
            "left": null
          }
        },
        "c573bdee86c640dc8deebb47875344eb": {
          "model_module": "@jupyter-widgets/controls",
          "model_name": "DescriptionStyleModel",
          "state": {
            "_view_name": "StyleView",
            "_model_name": "DescriptionStyleModel",
            "description_width": "",
            "_view_module": "@jupyter-widgets/base",
            "_model_module_version": "1.5.0",
            "_view_count": null,
            "_view_module_version": "1.2.0",
            "_model_module": "@jupyter-widgets/controls"
          }
        },
        "b84f1766b0c64e0483a79a951d8822f4": {
          "model_module": "@jupyter-widgets/base",
          "model_name": "LayoutModel",
          "state": {
            "_view_name": "LayoutView",
            "grid_template_rows": null,
            "right": null,
            "justify_content": null,
            "_view_module": "@jupyter-widgets/base",
            "overflow": null,
            "_model_module_version": "1.2.0",
            "_view_count": null,
            "flex_flow": null,
            "width": null,
            "min_width": null,
            "border": null,
            "align_items": null,
            "bottom": null,
            "_model_module": "@jupyter-widgets/base",
            "top": null,
            "grid_column": null,
            "overflow_y": null,
            "overflow_x": null,
            "grid_auto_flow": null,
            "grid_area": null,
            "grid_template_columns": null,
            "flex": null,
            "_model_name": "LayoutModel",
            "justify_items": null,
            "grid_row": null,
            "max_height": null,
            "align_content": null,
            "visibility": null,
            "align_self": null,
            "height": null,
            "min_height": null,
            "padding": null,
            "grid_auto_rows": null,
            "grid_gap": null,
            "max_width": null,
            "order": null,
            "_view_module_version": "1.2.0",
            "grid_template_areas": null,
            "object_position": null,
            "object_fit": null,
            "grid_auto_columns": null,
            "margin": null,
            "display": null,
            "left": null
          }
        },
        "cdd6e663b8e94f728b2efb2d3c661df5": {
          "model_module": "@jupyter-widgets/controls",
          "model_name": "HBoxModel",
          "state": {
            "_view_name": "HBoxView",
            "_dom_classes": [],
            "_model_name": "HBoxModel",
            "_view_module": "@jupyter-widgets/controls",
            "_model_module_version": "1.5.0",
            "_view_count": null,
            "_view_module_version": "1.5.0",
            "box_style": "",
            "layout": "IPY_MODEL_764ce6b3f01b486f8dd5455711dd59df",
            "_model_module": "@jupyter-widgets/controls",
            "children": [
              "IPY_MODEL_28411540e5244d6b9f8af3c006415dac",
              "IPY_MODEL_55e7bc7322b94dc491e46b420b20d6ed"
            ]
          }
        },
        "764ce6b3f01b486f8dd5455711dd59df": {
          "model_module": "@jupyter-widgets/base",
          "model_name": "LayoutModel",
          "state": {
            "_view_name": "LayoutView",
            "grid_template_rows": null,
            "right": null,
            "justify_content": null,
            "_view_module": "@jupyter-widgets/base",
            "overflow": null,
            "_model_module_version": "1.2.0",
            "_view_count": null,
            "flex_flow": null,
            "width": null,
            "min_width": null,
            "border": null,
            "align_items": null,
            "bottom": null,
            "_model_module": "@jupyter-widgets/base",
            "top": null,
            "grid_column": null,
            "overflow_y": null,
            "overflow_x": null,
            "grid_auto_flow": null,
            "grid_area": null,
            "grid_template_columns": null,
            "flex": null,
            "_model_name": "LayoutModel",
            "justify_items": null,
            "grid_row": null,
            "max_height": null,
            "align_content": null,
            "visibility": null,
            "align_self": null,
            "height": null,
            "min_height": null,
            "padding": null,
            "grid_auto_rows": null,
            "grid_gap": null,
            "max_width": null,
            "order": null,
            "_view_module_version": "1.2.0",
            "grid_template_areas": null,
            "object_position": null,
            "object_fit": null,
            "grid_auto_columns": null,
            "margin": null,
            "display": null,
            "left": null
          }
        },
        "28411540e5244d6b9f8af3c006415dac": {
          "model_module": "@jupyter-widgets/controls",
          "model_name": "FloatProgressModel",
          "state": {
            "_view_name": "ProgressView",
            "style": "IPY_MODEL_477db8bf8996468bb1fe792273b3c722",
            "_dom_classes": [],
            "description": "100%",
            "_model_name": "FloatProgressModel",
            "bar_style": "success",
            "max": 5120,
            "_view_module": "@jupyter-widgets/controls",
            "_model_module_version": "1.5.0",
            "value": 5120,
            "_view_count": null,
            "_view_module_version": "1.5.0",
            "orientation": "horizontal",
            "min": 0,
            "description_tooltip": null,
            "_model_module": "@jupyter-widgets/controls",
            "layout": "IPY_MODEL_a0f193a58b324fbdbcecdf52e0158ef1"
          }
        },
        "55e7bc7322b94dc491e46b420b20d6ed": {
          "model_module": "@jupyter-widgets/controls",
          "model_name": "HTMLModel",
          "state": {
            "_view_name": "HTMLView",
            "style": "IPY_MODEL_643225cdc2ad4ee098de40349ca9240c",
            "_dom_classes": [],
            "description": "",
            "_model_name": "HTMLModel",
            "placeholder": "​",
            "_view_module": "@jupyter-widgets/controls",
            "_model_module_version": "1.5.0",
            "value": " 5120/5120 [00:32&lt;00:00, 157.95it/s]",
            "_view_count": null,
            "_view_module_version": "1.5.0",
            "description_tooltip": null,
            "_model_module": "@jupyter-widgets/controls",
            "layout": "IPY_MODEL_3a716d6b02584b959a3d5936222d5563"
          }
        },
        "477db8bf8996468bb1fe792273b3c722": {
          "model_module": "@jupyter-widgets/controls",
          "model_name": "ProgressStyleModel",
          "state": {
            "_view_name": "StyleView",
            "_model_name": "ProgressStyleModel",
            "description_width": "initial",
            "_view_module": "@jupyter-widgets/base",
            "_model_module_version": "1.5.0",
            "_view_count": null,
            "_view_module_version": "1.2.0",
            "bar_color": null,
            "_model_module": "@jupyter-widgets/controls"
          }
        },
        "a0f193a58b324fbdbcecdf52e0158ef1": {
          "model_module": "@jupyter-widgets/base",
          "model_name": "LayoutModel",
          "state": {
            "_view_name": "LayoutView",
            "grid_template_rows": null,
            "right": null,
            "justify_content": null,
            "_view_module": "@jupyter-widgets/base",
            "overflow": null,
            "_model_module_version": "1.2.0",
            "_view_count": null,
            "flex_flow": null,
            "width": null,
            "min_width": null,
            "border": null,
            "align_items": null,
            "bottom": null,
            "_model_module": "@jupyter-widgets/base",
            "top": null,
            "grid_column": null,
            "overflow_y": null,
            "overflow_x": null,
            "grid_auto_flow": null,
            "grid_area": null,
            "grid_template_columns": null,
            "flex": null,
            "_model_name": "LayoutModel",
            "justify_items": null,
            "grid_row": null,
            "max_height": null,
            "align_content": null,
            "visibility": null,
            "align_self": null,
            "height": null,
            "min_height": null,
            "padding": null,
            "grid_auto_rows": null,
            "grid_gap": null,
            "max_width": null,
            "order": null,
            "_view_module_version": "1.2.0",
            "grid_template_areas": null,
            "object_position": null,
            "object_fit": null,
            "grid_auto_columns": null,
            "margin": null,
            "display": null,
            "left": null
          }
        },
        "643225cdc2ad4ee098de40349ca9240c": {
          "model_module": "@jupyter-widgets/controls",
          "model_name": "DescriptionStyleModel",
          "state": {
            "_view_name": "StyleView",
            "_model_name": "DescriptionStyleModel",
            "description_width": "",
            "_view_module": "@jupyter-widgets/base",
            "_model_module_version": "1.5.0",
            "_view_count": null,
            "_view_module_version": "1.2.0",
            "_model_module": "@jupyter-widgets/controls"
          }
        },
        "3a716d6b02584b959a3d5936222d5563": {
          "model_module": "@jupyter-widgets/base",
          "model_name": "LayoutModel",
          "state": {
            "_view_name": "LayoutView",
            "grid_template_rows": null,
            "right": null,
            "justify_content": null,
            "_view_module": "@jupyter-widgets/base",
            "overflow": null,
            "_model_module_version": "1.2.0",
            "_view_count": null,
            "flex_flow": null,
            "width": null,
            "min_width": null,
            "border": null,
            "align_items": null,
            "bottom": null,
            "_model_module": "@jupyter-widgets/base",
            "top": null,
            "grid_column": null,
            "overflow_y": null,
            "overflow_x": null,
            "grid_auto_flow": null,
            "grid_area": null,
            "grid_template_columns": null,
            "flex": null,
            "_model_name": "LayoutModel",
            "justify_items": null,
            "grid_row": null,
            "max_height": null,
            "align_content": null,
            "visibility": null,
            "align_self": null,
            "height": null,
            "min_height": null,
            "padding": null,
            "grid_auto_rows": null,
            "grid_gap": null,
            "max_width": null,
            "order": null,
            "_view_module_version": "1.2.0",
            "grid_template_areas": null,
            "object_position": null,
            "object_fit": null,
            "grid_auto_columns": null,
            "margin": null,
            "display": null,
            "left": null
          }
        }
      }
    }
  },
  "cells": [
    {
      "cell_type": "markdown",
      "metadata": {
        "id": "view-in-github",
        "colab_type": "text"
      },
      "source": [
        "<a href=\"https://colab.research.google.com/github/cookfisher/AnimatorGL/blob/master/p_1.ipynb\" target=\"_parent\"><img src=\"https://colab.research.google.com/assets/colab-badge.svg\" alt=\"Open In Colab\"/></a>"
      ]
    },
    {
      "cell_type": "markdown",
      "metadata": {
        "id": "nlun5t_GO2Xi"
      },
      "source": [
        "# COMP425/6341 Computer Vision - Project skeleton\n",
        "\n",
        "## 0 Import KMNIST dataset (1 pts)"
      ]
    },
    {
      "cell_type": "code",
      "metadata": {
        "id": "a4G0UJ4EcIfX"
      },
      "source": [
        "# import required libraries, DO NOT MODIFY!\n",
        "import torch\n",
        "import torchvision\n",
        "from torchvision.datasets import ImageFolder,KMNIST\n",
        "from torch.utils.data import Dataset, random_split, DataLoader\n",
        "import torchvision.transforms as transforms\n",
        "import matplotlib.pyplot as plt\n",
        "from torchvision.utils import make_grid\n",
        "from torch.optim import Adam\n",
        "import torch.nn.functional as F\n",
        "from torch import nn\n",
        "import numpy as np"
      ],
      "execution_count": null,
      "outputs": []
    },
    {
      "cell_type": "code",
      "metadata": {
        "id": "5ADRTRFNcIfY"
      },
      "source": [
        "### TODO: set random seed to your Student ID\n",
        "random_seed = 40078192\n",
        "torch.manual_seed(random_seed);"
      ],
      "execution_count": null,
      "outputs": []
    },
    {
      "cell_type": "markdown",
      "metadata": {
        "id": "VdFR_tBZKAiR"
      },
      "source": [
        "Run the cells below to initialize the train and test loaders for KMNIST and visualize one of its samples.\n",
        "\n",
        "**Experiments:** <br>\n",
        "1. Change `batch_size` based on the device you are using.<br>\n",
        "2. Try more complicated transformations on train set.<br>\n",
        "3. Visualize different samples from the dataset."
      ]
    },
    {
      "cell_type": "code",
      "metadata": {
        "id": "y9UQampoKAiS",
        "colab": {
          "base_uri": "https://localhost:8080/",
          "height": 437,
          "referenced_widgets": [
            "4e5a9283acc94afc8578391ead8107b5",
            "c80e47047dc34b72a8f57ad866d0df31",
            "b8c2f51e92e0415c88682e80411224bc",
            "be45b7244ed34d53b905bf751635a6e9",
            "a94b857df46d48c09c528832ec14877c",
            "5f78dc3ddc8f45f6be02d4c34f5d146c",
            "aa37c7f1b09741bf9d895cd6eb0e6562",
            "21be37f81fcb4a08b5534238652f4f87",
            "59191c8973684e54953856ccd5546cfe",
            "dbce6d1467634d8e9ab5b89dcad5cbed",
            "3b7360153a6940a5a6bd431011d5b9fb",
            "b397fba0166944fab4c67e75675287df",
            "d45d32f63be645819b64bb3cbbb82690",
            "69fff9d838214fb0b6c8949f47a79809",
            "171b98b3f81647dd80d88fa53a7f931c",
            "45806ded0ce44a38a5249d059f743b07",
            "238252a91efe4aaeb01a5ce45558fe8f",
            "7f10cb518b2c4440ab168fcf181a03d8",
            "fa48bf941fae4a338bbdd2205beb4651",
            "66387bdbdace410fa1887ea0e4662a17",
            "ca8a06be31c74223a963d0b0712f4059",
            "730f969460c6464d8e9294ac5397bddf",
            "c573bdee86c640dc8deebb47875344eb",
            "b84f1766b0c64e0483a79a951d8822f4",
            "cdd6e663b8e94f728b2efb2d3c661df5",
            "764ce6b3f01b486f8dd5455711dd59df",
            "28411540e5244d6b9f8af3c006415dac",
            "55e7bc7322b94dc491e46b420b20d6ed",
            "477db8bf8996468bb1fe792273b3c722",
            "a0f193a58b324fbdbcecdf52e0158ef1",
            "643225cdc2ad4ee098de40349ca9240c",
            "3a716d6b02584b959a3d5936222d5563"
          ]
        },
        "outputId": "71304369-5dd8-4d83-c047-d54e40c70a72"
      },
      "source": [
        "# datasets hyper parameters\n",
        "batch_size = 20\n",
        "train_transform = transforms.Compose([transforms.ToTensor()])\n",
        "test_transform = transforms.Compose([transforms.ToTensor()])\n",
        "\n",
        "# Initialize kmnist train and test datasets\n",
        "# These two lines will download the datasets in a folder called KMNIST.\n",
        "# The folder will be written in the same directory as this script.\n",
        "# The download will occur once. Subsequent executions will not re-download the datasets if they exist.\n",
        "kmnist_train_set = KMNIST(root='.',\n",
        "                         train=True,\n",
        "                         download=True,\n",
        "                         transform=train_transform)\n",
        "kmnist_test_set = KMNIST(root='.',\n",
        "                         train=False,\n",
        "                         download=True,\n",
        "                         transform=test_transform)\n",
        "\n",
        "# Initialize kmnist train and test data loaders. \n",
        "kmnist_train_loader = torch.utils.data.DataLoader(kmnist_train_set,\n",
        "                                           batch_size=batch_size,\n",
        "                                           shuffle=True,\n",
        "                                           drop_last=True)\n",
        "kmnist_test_loader = torch.utils.data.DataLoader(kmnist_test_set,\n",
        "                                          batch_size=batch_size,\n",
        "                                          shuffle=False,\n",
        "                                          drop_last=True)"
      ],
      "execution_count": null,
      "outputs": [
        {
          "output_type": "stream",
          "text": [
            "Downloading http://codh.rois.ac.jp/kmnist/dataset/kmnist/train-images-idx3-ubyte.gz to ./KMNIST/raw/train-images-idx3-ubyte.gz\n"
          ],
          "name": "stdout"
        },
        {
          "output_type": "display_data",
          "data": {
            "application/vnd.jupyter.widget-view+json": {
              "model_id": "4e5a9283acc94afc8578391ead8107b5",
              "version_minor": 0,
              "version_major": 2
            },
            "text/plain": [
              "HBox(children=(FloatProgress(value=0.0, max=18165135.0), HTML(value='')))"
            ]
          },
          "metadata": {
            "tags": []
          }
        },
        {
          "output_type": "stream",
          "text": [
            "\n",
            "Extracting ./KMNIST/raw/train-images-idx3-ubyte.gz to ./KMNIST/raw\n",
            "Downloading http://codh.rois.ac.jp/kmnist/dataset/kmnist/train-labels-idx1-ubyte.gz to ./KMNIST/raw/train-labels-idx1-ubyte.gz\n"
          ],
          "name": "stdout"
        },
        {
          "output_type": "display_data",
          "data": {
            "application/vnd.jupyter.widget-view+json": {
              "model_id": "59191c8973684e54953856ccd5546cfe",
              "version_minor": 0,
              "version_major": 2
            },
            "text/plain": [
              "HBox(children=(FloatProgress(value=0.0, max=29497.0), HTML(value='')))"
            ]
          },
          "metadata": {
            "tags": []
          }
        },
        {
          "output_type": "stream",
          "text": [
            "\n",
            "Extracting ./KMNIST/raw/train-labels-idx1-ubyte.gz to ./KMNIST/raw\n",
            "Downloading http://codh.rois.ac.jp/kmnist/dataset/kmnist/t10k-images-idx3-ubyte.gz to ./KMNIST/raw/t10k-images-idx3-ubyte.gz\n"
          ],
          "name": "stdout"
        },
        {
          "output_type": "display_data",
          "data": {
            "application/vnd.jupyter.widget-view+json": {
              "model_id": "238252a91efe4aaeb01a5ce45558fe8f",
              "version_minor": 0,
              "version_major": 2
            },
            "text/plain": [
              "HBox(children=(FloatProgress(value=0.0, max=3041136.0), HTML(value='')))"
            ]
          },
          "metadata": {
            "tags": []
          }
        },
        {
          "output_type": "stream",
          "text": [
            "\n",
            "Extracting ./KMNIST/raw/t10k-images-idx3-ubyte.gz to ./KMNIST/raw\n",
            "Downloading http://codh.rois.ac.jp/kmnist/dataset/kmnist/t10k-labels-idx1-ubyte.gz to ./KMNIST/raw/t10k-labels-idx1-ubyte.gz\n"
          ],
          "name": "stdout"
        },
        {
          "output_type": "display_data",
          "data": {
            "application/vnd.jupyter.widget-view+json": {
              "model_id": "cdd6e663b8e94f728b2efb2d3c661df5",
              "version_minor": 0,
              "version_major": 2
            },
            "text/plain": [
              "HBox(children=(FloatProgress(value=0.0, max=5120.0), HTML(value='')))"
            ]
          },
          "metadata": {
            "tags": []
          }
        },
        {
          "output_type": "stream",
          "text": [
            "\n",
            "Extracting ./KMNIST/raw/t10k-labels-idx1-ubyte.gz to ./KMNIST/raw\n",
            "Processing...\n",
            "Done!\n"
          ],
          "name": "stdout"
        },
        {
          "output_type": "stream",
          "text": [
            "/usr/local/lib/python3.7/dist-packages/torchvision/datasets/mnist.py:479: UserWarning: The given NumPy array is not writeable, and PyTorch does not support non-writeable tensors. This means you can write to the underlying (supposedly non-writeable) NumPy array using the tensor. You may want to copy the array to protect its data or make it writeable before converting it to a tensor. This type of warning will be suppressed for the rest of this program. (Triggered internally at  /pytorch/torch/csrc/utils/tensor_numpy.cpp:143.)\n",
            "  return torch.from_numpy(parsed.astype(m[2], copy=False)).view(*s)\n"
          ],
          "name": "stderr"
        }
      ]
    },
    {
      "cell_type": "code",
      "metadata": {
        "id": "7NR2HHDGKAiS",
        "scrolled": true,
        "colab": {
          "base_uri": "https://localhost:8080/",
          "height": 367
        },
        "outputId": "ca857f94-a7ca-4824-ca99-3c0c70378d28"
      },
      "source": [
        "### TODO: visualize a sample image and corresponding label from KMNIST\n",
        "images, labels = next(iter(kmnist_test_loader))\n",
        "print(labels)\n",
        "images = images * 0.5 + 0.5\n",
        "print(images[0][0].shape)\n",
        "print(images[0].shape)\n",
        "imgplot = plt.imshow(images[0][0])\n",
        "print(labels[0].item())\n",
        "print(len(kmnist_test_loader))\n",
        "print(len(kmnist_test_loader.dataset))"
      ],
      "execution_count": null,
      "outputs": [
        {
          "output_type": "stream",
          "text": [
            "tensor([2, 9, 3, 8, 3, 3, 8, 3, 2, 5, 6, 3, 3, 3, 1, 5, 4, 8, 6, 3])\n",
            "torch.Size([28, 28])\n",
            "torch.Size([1, 28, 28])\n",
            "2\n",
            "500\n",
            "10000\n"
          ],
          "name": "stdout"
        },
        {
          "output_type": "display_data",
          "data": {
            "image/png": "[encoded data removed]",
            "text/plain": [
              "<Figure size 432x288 with 1 Axes>"
            ]
          },
          "metadata": {
            "tags": [],
            "needs_background": "light"
          }
        }
      ]
    },
    {
      "cell_type": "code",
      "metadata": {
        "colab": {
          "base_uri": "https://localhost:8080/",
          "height": 288
        },
        "id": "etyHo6NhBoEb",
        "outputId": "3ba67548-8c91-4f4a-8ffa-61ab7d063bb8"
      },
      "source": [
        "# plt.plot([1,2,3])\n",
        "plt.subplot(211)\n",
        "ax1 = plt.subplot(2,2,1)\n",
        "ax2=plt.subplot(222, frameon=False)\n",
        "plt.subplot(223, projection='polar')\n",
        "plt.subplot(224, sharex=ax1, facecolor='red')\n",
        "plt.delaxes(ax2)\n",
        "plt.subplot(ax2)"
      ],
      "execution_count": null,
      "outputs": [
        {
          "output_type": "execute_result",
          "data": {
            "text/plain": [
              "<matplotlib.axes._subplots.AxesSubplot at 0x7fa56025f5d0>"
            ]
          },
          "metadata": {
            "tags": []
          },
          "execution_count": 28
        },
        {
          "output_type": "display_data",
          "data": {
            "image/png": "[encoded data removed]",
            "text/plain": [
              "<Figure size 432x288 with 4 Axes>"
            ]
          },
          "metadata": {
            "tags": [],
            "needs_background": "light"
          }
        }
      ]
    },
    {
      "cell_type": "code",
      "metadata": {
        "colab": {
          "base_uri": "https://localhost:8080/",
          "height": 235
        },
        "id": "aC8vHN1RES-n",
        "outputId": "b778164d-287f-41f5-b96c-90fa52fbc18c"
      },
      "source": [
        "plt.subplot(1,2,1), plt.imshow(images[0][0])\n",
        "plt.subplot(1,2,2), plt.imshow(images[2][0])\n",
        "plt.subplot(1,2,3), plt.imshow(images[4][0])"
      ],
      "execution_count": null,
      "outputs": [
        {
          "output_type": "execute_result",
          "data": {
            "text/plain": [
              "(<matplotlib.axes._subplots.AxesSubplot at 0x7fa55fff8650>,\n",
              " <matplotlib.image.AxesImage at 0x7fa55ffe7a50>)"
            ]
          },
          "metadata": {
            "tags": []
          },
          "execution_count": 35
        },
        {
          "output_type": "display_data",
          "data": {
            "image/png": "[encoded data removed]",
            "text/plain": [
              "<Figure size 432x288 with 2 Axes>"
            ]
          },
          "metadata": {
            "tags": [],
            "needs_background": "light"
          }
        }
      ]
    },
    {
      "cell_type": "markdown",
      "metadata": {
        "id": "3Q78iW7WKAiT"
      },
      "source": [
        "## 1 Feed-forward Neural network\n",
        "In this section, you will implement a simple feed-forward network from scratch. Follow the instructions/comments in each subsection to complete the general structure of the network."
      ]
    },
    {
      "cell_type": "markdown",
      "metadata": {
        "id": "jJhzKiUyKAiT"
      },
      "source": [
        "### 1.1 Activation Functions (4 + 4 + 4 pts)\n",
        "Implement [Sigmoid](https://en.wikipedia.org/wiki/Sigmoid_function), [ReLU](https://en.wikipedia.org/wiki/Rectifier_(neural_networks)) and [Identity](https://en.wikipedia.org/wiki/Identity_function) functions. This functions will later be used in network architecture."
      ]
    },
    {
      "cell_type": "code",
      "metadata": {
        "id": "NiIHSa5fKAiU"
      },
      "source": [
        "def Sigmoid(x):\n",
        "    \"\"\" Identity activation function\n",
        "    Args:\n",
        "        x (torch.tensor)\n",
        "    Return:\n",
        "        torch.tensor: a tensor of shape of x\n",
        "    \"\"\"\n",
        "    ### TODO: Fill out this function\n",
        "    return 1 / (1 + torch.exp(-x))\n",
        "    \n",
        "\n",
        "def ReLU(x):\n",
        "    \"\"\" ReLU activation function\n",
        "    Args:\n",
        "        x (torch.tensor)\n",
        "    Return:\n",
        "        torch.tensor: a tensor of shape of x\n",
        "    \"\"\"\n",
        "    ### TODO: Fill out this function\n",
        "    x1 = torch.zeros_like(x)\n",
        "    return maximum(x, x1)\n",
        "\n",
        "def Identity(x):\n",
        "    \"\"\" Identity activation function\n",
        "    Args:\n",
        "        x (torch.tensor)\n",
        "    Return:\n",
        "        torch.tensor: a tensor of shape of x\n",
        "    \"\"\"\n",
        "    ### TODO: Fill out this function\n",
        "    return x\n",
        "    "
      ],
      "execution_count": null,
      "outputs": []
    },
    {
      "cell_type": "markdown",
      "metadata": {
        "id": "DnLM6u8aKAiU"
      },
      "source": [
        "### 1.2 Cross Entropy Loss (7.5 + 7.5 pts)\n",
        "Implement the Softmax function and Cross Entropy loss."
      ]
    },
    {
      "cell_type": "code",
      "metadata": {
        "id": "Mv24yWSyKAiU"
      },
      "source": [
        "def Softmax(x,dim):\n",
        "    \"\"\" Softmax function\n",
        "    Args:torch.log(\n",
        "        x (torch.tensor): inputs tensor of size (B,F)\n",
        "        dim (int): A dimension along which Softmax will be computed\n",
        "    Return:\n",
        "        torch.tensor: a tensor of shape of x\n",
        "    \"\"\"\n",
        "    ### TODO: Fill out this function\n",
        "    res = -x + torch.logsumexp(x, dim, keepdim=True)\n",
        "    return res\n",
        "\n",
        "def CE_loss(predictions,labels):\n",
        "    \"\"\" Cross entropy loss\n",
        "    Args:\n",
        "        predictions (torch.tensor): tensor of shape of (B,C)\n",
        "        labels (torch.tensor): tensor of shape of (B,1)\n",
        "    Returns:\n",
        "        torch.tensor: a tensor of shape of (1,)\n",
        "    \"\"\"\n",
        "    ### TODO: Fill out this function\n",
        "    pass"
      ],
      "execution_count": null,
      "outputs": []
    },
    {
      "cell_type": "markdown",
      "metadata": {
        "id": "_tJxocVAKAiV"
      },
      "source": [
        "### 1.3 Network (2.5 + 7.5 pts)\n",
        "Complete the code for the simple feed-forward network shown below. \n",
        "\n",
        "Network parameters will be stored in a dictionary called `params`. weights and biases keys appear in the format `W#` and `b#` where `#` indicates the layer number. For example, the weights and biases of the first layer are `W1` and `b1`. Weights and biases are initialized inside `init_weights` function.\n",
        "\n",
        "**Notes:** \n",
        "1. Set `requires_grad=True` when initializing weights and biases to have [pytorch automatic differentiation engine](https://pytorch.org/docs/stable/autograd.html) calculate the gradients.\n",
        "2. Assign network parameters and inputs on the same `device`.\n",
        "3. Initialize weights and biases with samples from normal distribution with mean 0 and variance 1."
      ]
    },
    {
      "cell_type": "code",
      "metadata": {
        "id": "u_BV_J1NKAiW"
      },
      "source": [
        "params = {}\n",
        "\n",
        "class my_nn:\n",
        "    def __init__(self,layers_dim,layers_activation=None,device='cpu'):\n",
        "        \"\"\" Initialize network\n",
        "        Args:\n",
        "            layers_dims (List of ints): list of Size of each layer of the network\n",
        "                                        [inputs,layer1,...,outputs]\n",
        "            layers_activation (List of strings): list of activation function for each hidden layer\n",
        "                                        of the network[layer1,...,outputs]\n",
        "            device (str): a device that will be used for computation\n",
        "                Default: 'cpu'\n",
        "            \n",
        "        \"\"\"\n",
        "        self.layers_activation = layers_activation\n",
        "        self.params = {}\n",
        "        self.num_layers = len(layers_dim)-1\n",
        "        self.layers_dim = layers_dim\n",
        "        self.device = device\n",
        "        self.init_weights()\n",
        "\n",
        "    def init_weights(self):\n",
        "        \"\"\" Initialize weights and biases of network based on layers dimension.\n",
        "            Store weights and biases in self.params.\n",
        "            weights and biases key should be of format \"W#\" and \"b#\" where # is the layer number.\n",
        "            Example: for layer 1, weight and bias key is \"W1\" and \"b1\"\n",
        "        Args:\n",
        "            None\n",
        "        \n",
        "        Returns:\n",
        "            None\n",
        "        \"\"\"\n",
        "        ### TODO: Initialize weights and bias of network\n",
        "        ### TODO: Store weights and biases in self.params\n",
        "        ### HINT: Remember to set require_grad to True\n",
        "        ### HINT: Remember to put tensors of target device\n",
        "        pass\n",
        "\n",
        "    def forward(self,x):\n",
        "        \"\"\" Perform forward pass\n",
        "        Args:\n",
        "            x (torch.tensor): tensor of shape of (B, C, H, W)\n",
        "        \n",
        "        Return:\n",
        "            torch.tensor: tensor of shape of (B, N_classes)\n",
        "        \"\"\"\n",
        "        ### TODO: Fill out this function\n",
        "        pass"
      ],
      "execution_count": null,
      "outputs": []
    },
    {
      "cell_type": "markdown",
      "metadata": {
        "id": "dzH7h-aDKAiY"
      },
      "source": [
        "### 1.4 Training the network (12+12+6 pts)\n",
        "Complete and run the following cells to train the network. You can use the predefined network hyper parameters or try your own."
      ]
    },
    {
      "cell_type": "code",
      "metadata": {
        "id": "0XCEZfcKKAia"
      },
      "source": [
        "def Train(model,optimizer,dataloader,device):\n",
        "    \"\"\" performs training on train set\n",
        "    Args:\n",
        "        model (my_nn instance): model to be trained\n",
        "        optimizer (torch.optim instance)\n",
        "        dataloader (torch.utils.data.DataLoader instance): dataloader for train set\n",
        "        device (str): computation device ['cpu','cuda',...]\n",
        "    Returns:\n",
        "        list of floats: mini_batch loss sampled every 20 steps for visualization purposes\n",
        "        list of floats: mini_batch accuracy sampled every 20 steps for visualization purposes\n",
        "    \"\"\"\n",
        "    loss_tracker = []\n",
        "    accuracy_tracker = []\n",
        "    for i,(data,label) in enumerate(dataloader):\n",
        "        ### TODO: Put data and label on target device\n",
        "\n",
        "        ### TODO: Set gradients to zero\n",
        "\n",
        "        ### TODO: Pass data to the model\n",
        "\n",
        "        ### TODO: Calculate the loss of predicted labels vs ground truth labels\n",
        "\n",
        "        ### TODO: Calculate gradients and update weights and biases\n",
        "\n",
        "        if i % 20:\n",
        "            with torch.no_grad():\n",
        "                loss_tracker.append(loss.item())\n",
        "                ### TODO: calculate accuracy of mini_batch\n",
        "                accuracy = None\n",
        "                accuracy_tracker.append(accuracy/data.size(0))\n",
        "            \n",
        "    return loss_tracker, accuracy_tracker\n",
        "\n",
        "def Test(model,dataloader,device):\n",
        "    \"\"\" performs training on train set\n",
        "    Args:\n",
        "        model (my_nn instance): model to be trained\n",
        "        dataloader (torch.utils.data.DataLoader instance)\n",
        "        device (str): computation device ['cpu','cuda',...]\n",
        "    Returns:\n",
        "        floats: test set loss for visualization purposes\n",
        "        floats: test set accuracy for visualization purposes\n",
        "    \"\"\"\n",
        "    loss_tracker = []\n",
        "    accuracy_tracker = []\n",
        "    for i,(data,label) in enumerate(dataloader):\n",
        "        ### TODO: Put data and label on target device\n",
        "\n",
        "        \n",
        "        with torch.no_grad():\n",
        "            ### TODO: Pass data to the model\n",
        "\n",
        "            ### TODO: Calculate the loss of predicted labels vs ground truth labels\n",
        "           \n",
        "            ### TODO: calculate accuracy of mini_batch\n",
        "            accuracy = None\n",
        "            \n",
        "        loss_tracker.append(loss.item())\n",
        "        accuracy_tracker.append(accuracy/data.size(0))\n",
        "        \n",
        "    return sum(loss_tracker)/len(loss_tracker), sum(accuracy_tracker)/len(accuracy_tracker)\n",
        "        "
      ],
      "execution_count": null,
      "outputs": []
    },
    {
      "cell_type": "code",
      "metadata": {
        "id": "MRgQgscVKAib"
      },
      "source": [
        "# Training hyper parameters\n",
        "epochs = 10\n",
        "learning_rate = 0.001\n",
        "layers_dim = [28*28,512,512,10]\n",
        "\n",
        "### TODO: Set target device for computations\n",
        "device = None\n",
        "print(f'device: {device}')\n",
        "\n",
        "\n",
        "### TODO: Initialize model using layers_dim\n",
        "model = None\n",
        "### TODO: Initialize Adam optimizer\n",
        "optimizer = None\n",
        "\n",
        "train_loss_tracker = []\n",
        "train_accuracy_tracker = []\n",
        "\n",
        "test_loss_tracker = []\n",
        "test_accuracy_tracker = []\n",
        "\n",
        "for epoch in range(epochs):\n",
        "    print(f'Epoch: {epoch}')\n",
        "    train_loss,train_accuracy = Train(model,optimizer,kmnist_train_loader,device)\n",
        "    test_loss , test_accuracy = Test(model,kmnist_test_loader,device)\n",
        "    train_loss_tracker.extend(train_loss)\n",
        "    train_accuracy_tracker.extend(train_accuracy)\n",
        "    test_loss_tracker.append(test_loss)\n",
        "    test_accuracy_tracker.append(test_accuracy)\n",
        "    print('\\t training loss/accuracy: {0:.2f}/{1:.2f}'.format(sum(train_loss)/len(train_loss), sum(train_accuracy)/len((train_accuracy))))\n",
        "    print('\\t testing loss/accuracy: {0:.2f}/{1:.2f}'.format(test_loss, test_accuracy))"
      ],
      "execution_count": null,
      "outputs": []
    },
    {
      "cell_type": "code",
      "metadata": {
        "id": "Ac_LFfwJKAib",
        "scrolled": true
      },
      "source": [
        "### TODO: visualize train_loss and train_accuracy\n",
        "### TODO: visualize test_loss and test_accuracy\n"
      ],
      "execution_count": null,
      "outputs": []
    },
    {
      "cell_type": "markdown",
      "metadata": {
        "id": "eIo6qu1jKAic"
      },
      "source": [
        "## 2 Convolutional Neural Network (CNN)"
      ]
    },
    {
      "cell_type": "markdown",
      "metadata": {
        "id": "ZayT7BO8QNV2"
      },
      "source": [
        "Implement a CNN and train your network. Using GPU will dramatically increase the training speed. If you are planning on using [Google Colab](https://colab.research.google.com/), one way to load the dataset is to load it from your google drive. Run the cell below to mount your google drive storage. If you are training on your local machine, comment out the following two lines."
      ]
    },
    {
      "cell_type": "code",
      "metadata": {
        "id": "Wn7FtKW4Ln1b"
      },
      "source": [
        "# from google.colab import drive\n",
        "# drive.mount('/content/drive')"
      ],
      "execution_count": null,
      "outputs": []
    },
    {
      "cell_type": "markdown",
      "metadata": {
        "id": "Ce6IrzbBKAic"
      },
      "source": [
        "In this section, we will use the [Stanford Dogs Dataset](http://vision.stanford.edu/aditya86/ImageNetDogs/). You only need download [images](http://vision.stanford.edu/aditya86/ImageNetDogs/images.tar) (Extract and upload this folder to your google drive if you are planning to use google colab). \n",
        "\n",
        "Run the cells below to load and visualize this dataset."
      ]
    },
    {
      "cell_type": "code",
      "metadata": {
        "id": "uXSRH8w1cIfZ"
      },
      "source": [
        "# load dataset from path\n",
        "# set path to images location on your local machine or google drive\n",
        "#path = 'drive/MyDrive/images/Images'  # Google drive\n",
        "path = './images/Images'               #local machine\n",
        "dataset = ImageFolder(path)\n",
        "print(f'number of images: {len(dataset)}')\n",
        "print(f'number of classes: {len(dataset.classes)}')"
      ],
      "execution_count": null,
      "outputs": []
    },
    {
      "cell_type": "code",
      "metadata": {
        "id": "aPe_cqDPcIfa"
      },
      "source": [
        "# Create train and test splits of original dataset\n",
        "test_pct = 0.3\n",
        "test_size = int(len(dataset)*test_pct)\n",
        "train_size = len(dataset) - test_size\n",
        "train_ds, test_ds = random_split(dataset, [train_size, test_size])"
      ],
      "execution_count": null,
      "outputs": []
    },
    {
      "cell_type": "code",
      "metadata": {
        "id": "t6WlRHFxOw73"
      },
      "source": [
        "# In order to apply transformations, we use a custom dataset\n",
        "# see https://pytorch.org/docs/stable/data.html#iterable-style-datasets\n",
        "class DogBreedDataset(Dataset):\n",
        "    \n",
        "    def __init__(self, ds, transform=None):\n",
        "        self.ds = ds\n",
        "        self.transform = transform\n",
        "        \n",
        "    def __len__(self):\n",
        "        return len(self.ds)\n",
        "    \n",
        "    def __getitem__(self, idx):\n",
        "        img, label = self.ds[idx]\n",
        "        if self.transform:\n",
        "            img = self.transform(img)  \n",
        "            return img, label"
      ],
      "execution_count": null,
      "outputs": []
    },
    {
      "cell_type": "code",
      "metadata": {
        "id": "Cmm9TWo_cIfb"
      },
      "source": [
        "batch_size =64\n",
        "\n",
        "#train set transforms\n",
        "train_transform = transforms.Compose([\n",
        "   transforms.Resize((240, 240)),\n",
        "    transforms.ToTensor()    \n",
        "])\n",
        "\n",
        "# test set transforms\n",
        "test_transform = transforms.Compose([\n",
        "    transforms.Resize((240,240)), \n",
        "    transforms.ToTensor()\n",
        "])\n",
        "\n",
        "# Initialize train and test sets\n",
        "train_dataset = DogBreedDataset(train_ds, train_transform)\n",
        "test_dataset = DogBreedDataset(test_ds, test_transform)\n",
        "\n",
        "# Create DataLoaders\n",
        "train_dl = DataLoader(train_dataset, batch_size, shuffle=True)\n",
        "test_dl = DataLoader(test_dataset, batch_size)"
      ],
      "execution_count": null,
      "outputs": []
    },
    {
      "cell_type": "code",
      "metadata": {
        "id": "f5N0-ApkcIfc"
      },
      "source": [
        "def show_batch(dl):\n",
        "    for img, lb in dl:\n",
        "        fig, ax = plt.subplots(figsize=(16, 8))\n",
        "        ax.set_xticks([]); ax.set_yticks([])\n",
        "        ax.imshow(make_grid(img.cpu(), nrow=16).permute(1,2,0))\n",
        "        break\n",
        "show_batch(train_dl)"
      ],
      "execution_count": null,
      "outputs": []
    },
    {
      "cell_type": "markdown",
      "metadata": {
        "id": "penyN1C-KAid"
      },
      "source": [
        "### 2.1 Custom CNN (10* + 2.5 + 12.5 pts)\n",
        "Create your own `conv_net`. Apply `ReLU` activation function after each convolution layer.\n",
        "\n",
        "**Extra credit for undergraduates/Compulsory for graduates**: Implement a `my_conv2d` class to replace `torch.nn.Conv2d`.\n",
        "\n",
        "**Extra credit for all**: Implement [Xavier initialization](http://proceedings.mlr.press/v9/glorot10a/glorot10a.pdf?hc_location=ufi]) to initialize network weights. Do not use `torch.nn.init` module for this task."
      ]
    },
    {
      "cell_type": "code",
      "metadata": {
        "id": "QVjaIvqhwoQf"
      },
      "source": [
        "class my_conv2d:\n",
        "    ### EXTRA CREDIT FOR UNDERGRADUATES - ### TODO: Compulsory for graduates\n",
        "    ### Complete this class to have the perform the convolution similar to torch.nn.Conv2d \n",
        "    def __init__(self,):\n",
        "        pass\n",
        "    \n",
        "    def forward(self,x):\n",
        "        pass\n",
        "\n",
        "    \n",
        "\n",
        "class conv_net(nn.Module):\n",
        "    def __init__(self):\n",
        "        \"\"\" Initialize conv_net\n",
        "        Args:\n",
        "            None\n",
        "        Returns:\n",
        "            None\n",
        "        \"\"\"\n",
        "        super(conv_net,self).__init__()\n",
        "        self.conv1 = nn.Conv2d(in_channels = 3, out_channels = 100, kernel_size = 11, stride = 3)\n",
        "        self.max_pool1 = nn.MaxPool2d(kernel_size = 3, stride = 2)\n",
        "        self.conv2 = nn.Conv2d(in_channels = 100, out_channels = 512, kernel_size = 3, stride = 1)\n",
        "        self.conv3 = nn.Conv2d(in_channels = 512, out_channels = 512, kernel_size = 3, stride = 2)\n",
        "        self.max_pool2 = nn.MaxPool2d(kernel_size = 3, stride = 2)\n",
        "        self.conv4 = nn.Conv2d(in_channels = 512, out_channels = 256, kernel_size = 3, stride = 1)\n",
        "        self.conv5 = nn.Conv2d(in_channels = 256, out_channels = 256, kernel_size = 3, stride = 1)\n",
        "        self.max_pool3 = nn.MaxPool2d(kernel_size = 3, stride = 1)\n",
        "        ### TODO: calculate number of in_features for this layer\n",
        "        self.linear = nn.Linear(in_features = None , out_features = 120)\n",
        "        self.init_weights()\n",
        "\n",
        "    def init_weights(self):\n",
        "        ### EXTRA CREDIT FOR ALL: initialize network weights based on Xavier initialization\n",
        "        pass\n",
        "    \n",
        "    def forward(self,x):\n",
        "        \"\"\" Perform forward pass\n",
        "        Args:\n",
        "            x (torch.tensor): tensor of images of shape  (B, C, H, W)\n",
        "        Returns:\n",
        "            torch.tensor: tesnor of output of shape (B, N_classes)\n",
        "        \"\"\"\n",
        "        ### TODO: fill out this function\n",
        "        pass"
      ],
      "execution_count": null,
      "outputs": []
    },
    {
      "cell_type": "markdown",
      "metadata": {
        "id": "bztsm81kKAid"
      },
      "source": [
        "### 2.2 Training the network (3.5 + 3.5 pts)\n",
        "Re-use the previously implemented Train and Test functions. Complete the missing parts below and run cells to train `conv_net` and visualize the training statistics."
      ]
    },
    {
      "cell_type": "code",
      "metadata": {
        "id": "opliQtf0xTAt"
      },
      "source": [
        "# Training hyper parameters\n",
        "epochs = 20\n",
        "learning_rate = 0.001\n",
        "\n",
        "### TODO: Set target device for computations\n",
        "device = None\n",
        "print(f'device: {device}')\n",
        "\n",
        "\n",
        "### TODO: Initialize conv_net\n",
        "model = None\n",
        "### TODO: Put model parameters on target device\n",
        "\n",
        "### TODO: Initialize Adam optimizer\n",
        "optimizer = None\n",
        "\n",
        "train_loss_tracker = []\n",
        "train_accuracy_tracker = []\n",
        "\n",
        "test_loss_tracker = []\n",
        "test_accuracy_tracker = []\n",
        "\n",
        "for epoch in range(epochs):\n",
        "    train_loss,train_accuracy = Train(model,optimizer,train_dl,device)\n",
        "    test_loss , test_accuracy = Test(model,test_dl,device)\n",
        "    train_loss_tracker.extend(train_loss)\n",
        "    train_accuracy_tracker.extend(train_accuracy)\n",
        "    test_loss_tracker.append(test_loss)\n",
        "    test_accuracy_tracker.append(test_accuracy)\n",
        "    print(f'epoch: {epoch}')\n",
        "    print('\\t training loss/accuracy: {0:.2f}/{1:.2f}'.format(sum(train_loss)/len(train_loss), sum(train_accuracy)/len((train_accuracy))))\n",
        "    print('\\t testing loss/accuracy: {0:.2f}/{1:.2f}'.format(test_loss, test_accuracy))"
      ],
      "execution_count": null,
      "outputs": []
    },
    {
      "cell_type": "code",
      "metadata": {
        "id": "1O7BBD35KAie",
        "scrolled": false
      },
      "source": [
        "### TODO: visualize train_loss and train_accuracy\n",
        "### TODO: visualize test_loss and test_accuracy\n"
      ],
      "execution_count": null,
      "outputs": []
    },
    {
      "cell_type": "markdown",
      "metadata": {
        "id": "2-KcFEv1KAie"
      },
      "source": [
        "### 2.3 Ablation study of filters (10 pts)\n",
        "In practice, for many computer vision tasks, training the network from scratch is not recommended since it is time consuming and requires a vase amount of labeled data for training. Instead, one can use networks trained for image classification on benchmark datasets such as ImageNet to initialize a new network. In particular, the initial layers of the pre-trained networks extract general features and can therefore be used to initialize the initial layers of a new network.\n",
        "\n",
        "In this part,you will visualize some of the filters from the first layer of [AlexNet](https://papers.nips.cc/paper/2012/hash/c399862d3b9d6b76c8436e924a68c45b-Abstract.html) and the results of their application on a sample image from the Stanford dogs dataset."
      ]
    },
    {
      "cell_type": "markdown",
      "metadata": {
        "id": "07usBkfaXi-B"
      },
      "source": [
        "Run the cell below to load a pretrained Alexnet using [PyTorch Hub](https://pytorch.org/docs/stable/hub.html)'s [`torch.hub.load()`](https://pytorch.org/docs/stable/hub.html#torch.hub.load) method. The model is switched to `eval()` as we are using it only for inference. Running this cell will display the architecture of the `Alexnet`."
      ]
    },
    {
      "cell_type": "code",
      "metadata": {
        "id": "vTzV5k2aKAie",
        "scrolled": true
      },
      "source": [
        "# load the alexnet model using pytorch hub from:\n",
        "# https://github.com/pytorch/vision/blob/winbuild/v0.6.0/torchvision/models/alexnet.py\n",
        "model = torch.hub.load('pytorch/vision:v0.6.0', 'alexnet', pretrained=True)\n",
        "\n",
        "# switch the model to \"eval\" mode\n",
        "model.eval()"
      ],
      "execution_count": null,
      "outputs": []
    },
    {
      "cell_type": "markdown",
      "metadata": {
        "id": "oaAcMWdvXqI9"
      },
      "source": [
        "Since we are using a pretrained model, our data distribution should match the distribution of the training data. Here, we normalize the input similar to [original training pipeline](https://github.com/pytorch/examples/blob/97304e232807082c2e7b54c597615dc0ad8f6173/imagenet/main.py#L197-L198).\n",
        "\n",
        "Run the cell below to load and normalize a sample image."
      ]
    },
    {
      "cell_type": "code",
      "metadata": {
        "id": "0o5Sb_8uXubk"
      },
      "source": [
        "data,_ = next(iter(train_dl))\n",
        "sample_image = data[0]\n",
        "\n",
        "# the mean and standard deviations of ImageNet dataset \n",
        "# that were used for preprocessing AlexNet training data\n",
        "mean = np.array([0.485, 0.456, 0.406])\n",
        "std = np.array([0.229, 0.224, 0.225])\n",
        "\n",
        "### TODO: normalize sample_image using the mean and standard deviations of ImageNet dataset \n",
        "sample_image_processed = None"
      ],
      "execution_count": null,
      "outputs": []
    },
    {
      "cell_type": "code",
      "metadata": {
        "id": "-7ro8OniX19Z"
      },
      "source": [
        "### TODO: visualize the sample image\n"
      ],
      "execution_count": null,
      "outputs": []
    },
    {
      "cell_type": "markdown",
      "metadata": {
        "id": "5OgtYH0oKAif"
      },
      "source": [
        "Visualize a randomly selected subset of 20 of these first layer filters as well as the respective output of convolving each kernel with a sample image. "
      ]
    },
    {
      "cell_type": "code",
      "metadata": {
        "id": "5kM5QJg9KAif"
      },
      "source": [
        "import numpy as np\n",
        "\n",
        "# first layer of Alexnet\n",
        "first_layer = model.features[0]\n",
        "\n",
        "### TODO: get weights of first layer kernels of the model\n",
        "\n",
        "### TODO: pass sample image to the first layer\n",
        "\n",
        "### TODO: randomly select 20 filters out of 64\n",
        "\n",
        "### TODO: show selected kernel and their convolution output on sample image.\n"
      ],
      "execution_count": null,
      "outputs": []
    }
  ]
}